{
 "cells": [
  {
   "cell_type": "markdown",
   "id": "354ed2e7",
   "metadata": {},
   "source": [
    "# Constructing an orthogonal base: polynomial chaos\n",
    "\n",
    "## Why bothering?\n",
    "\n",
    "When using system identification algorithms we are effectively trying to force the observed dynamics onto a subspace of the space of all possible functions. In particular when it comes to our project this space needs to have a small dimension and retain only the most significant terms in order to allow the interpretability and reliability of the discovered model. \n",
    "\n",
    "The chosen algorithm, SINDy, works by allowing the user to choose the base on which the dynamics will be projected. The most simple one is a polynomial basis of the kind:\n",
    "\n",
    "$$ \\Theta(X) = [1\\;X\\;X^2\\;\\dots\\;X^r ]$$\n",
    "\n",
    "This basis is, however, not orthogonal. By defining an inner product between functions of $x \\in \\mathcal{D}_x$ like\n",
    "\n",
    "$$ \\langle f(x), g(x)\\rangle = \\int_{\\mathcal{D}_x}f(x)g(x)dx$$\n",
    "\n",
    "we can say two functions $f(x)$ and $g(x)$ are orthogonal if \n",
    "\n",
    "$$\\langle f(x), g(x)\\rangle = 0$$\n",
    "\n",
    "it is easy to see that products between even or odd polynomial (e.g. $X\\cdot X^3$, $1\\cdot X^2$), are not zero.\n",
    "\n",
    "The objective is now to create an orthogonal basis.  \n",
    "Following [1] we are assured that a basis composed of othonormal polynomials exist. Moreover, it is possible to construct it numerically only from data collected from the system through the Gram-Schmidt algorithm. These computations are the focus of the current python code."
   ]
  },
  {
   "cell_type": "code",
   "execution_count": 14,
   "id": "8745ff57",
   "metadata": {},
   "outputs": [],
   "source": [
    "%matplotlib inline\n",
    "\n",
    "import numpy as np\n",
    "import matplotlib.pyplot as plt\n",
    "from scipy.integrate import simpson\n",
    "from scipy import stats\n",
    "import sympy as sym\n",
    "\n",
    "class OrthogonalPolynomials():\n",
    "    \n",
    "    def __init__(\n",
    "            self, \n",
    "            X, \n",
    "            degree = 5, \n",
    "            ):\n",
    "        self.X = X\n",
    "        self.degree = degree\n",
    "        \n",
    "    def get_X_dimensions(self):\n",
    "        ''' \n",
    "        Returns shape of the input matrix by assuming that the number of samples \n",
    "        (n) is greater than the number of state variables (m)\n",
    "        '''\n",
    "        nx, mx = self.X.shape\n",
    "        if nx > mx: \n",
    "            n, m = nx, mx\n",
    "        else:\n",
    "            m, n = nx, mx\n",
    "            self.X = self.X.T\n",
    "            \n",
    "        return n, m\n",
    "        \n",
    "    def pmf(self, plot = False):\n",
    "        '''\n",
    "        Generate histogram (probability mass function) for the distribution of \n",
    "        the data. \n",
    "        Gives the possibility to plot it if necessary\n",
    "        '''\n",
    "        n, m = self.get_X_dimensions()\n",
    "        bins = []\n",
    "        for i in range(m):\n",
    "            bins.append(len(np.histogram_bin_edges(self.X[:,i], 'fd'))-1) # optimal number of bins using Freedman Diaconis Estimator\n",
    "        \n",
    "        self.pmf, self.bin_edges = np.histogramdd(self.X, bins, density = True)\n",
    "        if plot:\n",
    "           \n",
    "            if m > 1:\n",
    "                raise ValueError(\n",
    "                    'Can only plot one dimensional histograms'\n",
    "                    )\n",
    "            else:\n",
    "                fig, ax = plt.subplots()\n",
    "                ax.hist(self.X, self.bin_edges[0], density = True)\n",
    "                ax.set_xlabel('X')\n",
    "                ax.set_ylabel('p(X)')\n",
    "                ax.set_title('Probability mass function of X')\n",
    "                plt.show()\n",
    "        \n",
    "        return self.pmf, self.bin_edges\n",
    "    \n",
    "    def interpolate_pmf(self):\n",
    "        '''\n",
    "        Interpolate histogram on bin edges\n",
    "        '''\n",
    "        interp_pmf =  stats.rv_histogram((self.pmf, self.bin_edges[0]))\n",
    "        return interp_pmf.pdf(self.bin_edges[0])\n",
    "        \n",
    "    \n",
    "    def orthogonal_polynomial(self):\n",
    "        '''\n",
    "        Calculates the coefficients for the orthogonal polynomial basis\n",
    "        At the moment supports only single variable polynomials.\n",
    "        To implement the weight function\n",
    "        '''\n",
    "        \n",
    "        def alpha(self, pi):\n",
    "            x0 = sym.symbols(\"x0\")\n",
    "            integrand_num = sym.lambdify(x0, pi[1] * pi[1] * x0, \"numpy\")\n",
    "            integrand_den = sym.lambdify(x0, pi[1] * pi[1], \"numpy\")\n",
    "            numerator = simpson(integrand_num(self.bin_edges[0]) * self.interpolate_pmf(), self.bin_edges[0])\n",
    "            denominator = simpson(integrand_den(self.bin_edges[0]) * self.interpolate_pmf(), self.bin_edges[0])\n",
    "            return numerator / denominator\n",
    "        \n",
    "        def beta(self, pi):\n",
    "            x0 = sym.symbols(\"x0\")\n",
    "            integrand_num = sym.lambdify(x0, pi[1] * pi[1], \"numpy\")\n",
    "            integrand_den = sym.lambdify(x0, pi[0] * pi[0], \"numpy\")\n",
    "            numerator = simpson(integrand_num(self.bin_edges[0]) * self.interpolate_pmf(), self.bin_edges[0])\n",
    "            if pi[0] == x0**0:\n",
    "                integrand_den = lambda x: x**0\n",
    "            denominator = simpson(integrand_den(self.bin_edges[0]) * self.interpolate_pmf(), self.bin_edges[0])\n",
    "            return numerator / denominator\n",
    "        \n",
    "        n, m = self.get_X_dimensions()\n",
    "        x = []\n",
    "        for i in range(m): x.append(sym.symbols(f'x{i}')) \n",
    "        \n",
    "        pi = [x[0]**0, x[0]]\n",
    "\n",
    "        for deg in range(2,self.degree+1):\n",
    "            alpha_k = alpha(self,pi)\n",
    "            beta_k = beta(self,pi)\n",
    "            pi_new = (x[0]-alpha_k) * pi[1] - beta_k * pi[0]\n",
    "            pi[0] = pi[1]\n",
    "            pi[1] = pi_new\n",
    "            \n",
    "        self.coefficients = sym.Poly(pi[1]).all_coeffs()\n",
    "        return sym.lambdify(x[0],pi[1])\n",
    "        "
   ]
  },
  {
   "cell_type": "markdown",
   "id": "b3e437c8",
   "metadata": {},
   "source": [
    "## Orthogonal polynomials: how to make them\n",
    "\n",
    "We assume the data x is drawn from a set $\\mathcal{D}_x$ with a probability distribution $w(x)$. We can then define a weighted inner product as:\n",
    "\n",
    "$$ \\langle f(x), g(x)\\rangle_w = \\int_{\\mathcal{D}_x}f(x)g(x)w(x)dx$$\n",
    "\n",
    "the definition of orthogonality is the same. The distribution $w(x)$ is calculated from the data using `np.histogramdd`, and for 1D distributions it can be visualised"
   ]
  },
  {
   "cell_type": "code",
   "execution_count": 6,
   "id": "b6474149",
   "metadata": {},
   "outputs": [
    {
     "data": {
      "image/png": "[encoded data removed]",
      "text/plain": [
       "<Figure size 432x288 with 1 Axes>"
      ]
     },
     "metadata": {
      "needs_background": "light"
     },
     "output_type": "display_data"
    }
   ],
   "source": [
    "np.random.seed(42)\n",
    "n = 10000 # number of samples\n",
    "x = np.random.randn(n, 1)\n",
    "mu = np.sum(x) / n\n",
    "x -= mu # ensure zero mean\n",
    "# normalisation so that D_x = [-1, 1]\n",
    "a = np.max(x)\n",
    "b = np.min(x)\n",
    "\n",
    "X = OrthogonalPolynomials(1/(b-a)*(2*x-a-b), degree = 2)\n",
    "\n",
    "hist, bin_edges = X.pmf(plot = True)"
   ]
  },
  {
   "cell_type": "markdown",
   "id": "dc79c7f7",
   "metadata": {},
   "source": [
    "To construct the polynomials the following recursive formula is employed:\n",
    "\n",
    "$$\\pi_{k+1}(x) = (x- \\alpha_k)\\pi_k(x) - \\beta_k\\pi_{k-1}(x)$$\n",
    "$$\\alpha_k = \\frac{\\langle x\\pi_{k},\\pi_k\\rangle_w}{\\langle \\pi_{k},\\pi_{k}\\rangle_w}$$\n",
    "$$\\beta_k = \\frac{\\langle \\pi_{k},\\pi_k\\rangle_w}{\\langle \\pi_{k-1},\\pi_{k-1}\\rangle_w}$$\n",
    "\n",
    "Where $\\pi_k(x)$ is a monomic polynomial of degree k.\n",
    "\n",
    "While $\\pi_0(x) = 1$ can be chosen arbitrarily, $\\pi_1(x) = ax + b$ need to be chosen in order to be orthogonal to 1. \n",
    "This is done by imposing:\n",
    "\n",
    "$$\\langle \\pi_1, 1\\rangle_w = 0$$\n",
    "$$\\int_{\\mathcal{D}_x}\\pi_1w(x)dx = \\int_{\\mathcal{D}_x}(ax + b)w(x)dx = a\\int_{\\mathcal{D}_x}xw(x)dx +b\\int_{\\mathcal{D}_x}w(x)dx = 0 $$\n",
    "$$a\\mathbb{E}[x] + b = 0 \\Rightarrow b = -a\\mathbb{E}[x] $$\n",
    "\n",
    "By this calculation we can deduce that if $\\mathbb{E}[x] = 0$ we have $b= 0$ for any $a$, which we can arbitrarily set to 1, giving $\\pi_1(x) = x$. To ensure that $x$ has zero mean is sufficient to subtract it at the beginning.\n",
    "\n",
    "It is possible now to retrieve any orthogonal polynomial. For example the coefficients for $\\pi_2(x)$ are:"
   ]
  },
  {
   "cell_type": "code",
   "execution_count": 17,
   "id": "f3df52c8",
   "metadata": {},
   "outputs": [
    {
     "name": "stdout",
     "output_type": "stream",
     "text": [
      "Coefficients of the polynomial:\n",
      "[1.00000000000000, 0.0432012311883071, -0.0656111382533231]\n"
     ]
    },
    {
     "data": {
      "image/png": "[encoded data removed]",
      "text/plain": [
       "<Figure size 432x288 with 1 Axes>"
      ]
     },
     "metadata": {
      "needs_background": "light"
     },
     "output_type": "display_data"
    }
   ],
   "source": [
    "pi_2 = X.orthogonal_polynomial()\n",
    "print('Coefficients of the polynomial:')\n",
    "print(X.coefficients)\n",
    "\n",
    "x_plot = np.linspace(-1,1,100)\n",
    "fig, ax = plt.subplots()\n",
    "ax.plot(x_plot, pi_2(x_plot))\n",
    "ax.set_xlabel('x')\n",
    "ax.set_ylabel(r'$\\pi_2(x)$')\n",
    "ax.set_title('Second Orthogonal Polynomial')\n",
    "plt.show()\n"
   ]
  },
  {
   "cell_type": "markdown",
   "id": "f424dff0",
   "metadata": {},
   "source": [
    "In order to chek the correctness of the code we can try to reproduce some analytical results. In particular we know that for a uniform distribution with support $\\mathcal{D}_x = [-1, 1]$ the set of orthogonal polynomials is given by the Legendre polynomials, given by:\n",
    "\n",
    "$$P_0(x) = 1; \\quad P_1(x) = x$$\n",
    "$$(k+1)P_{k+1}(x) = (2k + 1)xP_k(x) - kP_{k-1}(x)$$\n",
    "$$\\Rightarrow P_2(x) = \\frac{1}{2}(3x^2 - 1)$$\n"
   ]
  },
  {
   "cell_type": "code",
   "execution_count": 18,
   "id": "5caa9fd1",
   "metadata": {},
   "outputs": [
    {
     "data": {
      "image/png": "[encoded data removed]",
      "text/plain": [
       "<Figure size 432x288 with 1 Axes>"
      ]
     },
     "metadata": {
      "needs_background": "light"
     },
     "output_type": "display_data"
    },
    {
     "name": "stdout",
     "output_type": "stream",
     "text": [
      "Coefficients of the polynomial:\n",
      "[1.00000000000000, 0.00465094360653518, -0.332303006306604]\n"
     ]
    },
    {
     "data": {
      "image/png": "[encoded data removed]",
      "text/plain": [
       "<Figure size 432x288 with 1 Axes>"
      ]
     },
     "metadata": {
      "needs_background": "light"
     },
     "output_type": "display_data"
    }
   ],
   "source": [
    "x_uniform = np.linspace(-1,1,n*1000)\n",
    "x_uniform = np.array([x_uniform])\n",
    "X_Legendre = OrthogonalPolynomials(x_uniform, degree = 2)\n",
    "\n",
    "hist, bin_edges = X_Legendre.pmf(plot = True)\n",
    "\n",
    "P_2 = X_Legendre.orthogonal_polynomial()\n",
    "print('Coefficients of the polynomial:')\n",
    "print(X_Legendre.coefficients)\n",
    "\n",
    "x_plot = np.linspace(-1,1,100)\n",
    "fig, ax = plt.subplots()\n",
    "ax.plot(x_plot, P_2(x_plot))\n",
    "ax.set_xlabel('x')\n",
    "ax.set_ylabel(r'$P(x)$')\n",
    "ax.set_title('Second Legendre Polynomial')\n",
    "plt.show()"
   ]
  },
  {
   "cell_type": "markdown",
   "id": "a0cafc25",
   "metadata": {},
   "source": [
    "The Legendre polynomial is retrieved by multiplying the obtained coefficients times 3/2.\n",
    "\n",
    "Unfortunately the algorithm seems very slow to converge to the right solution (note the `n*1000`). This might be due to the numerical integration and the automatic sizing of the bins for the histogram"
   ]
  },
  {
   "cell_type": "markdown",
   "id": "77713ee8",
   "metadata": {},
   "source": [
    "[1] Sudret, B. (2014) Polynomial chaos expansions and stochastic finite element methods, In: Risk and Reliability in Geotechnical Engineering (Chap. 6), K.-K. Phoon & J. Ching (Eds.), pp. 265-300, CRC Press."
   ]
  },
  {
   "cell_type": "code",
   "execution_count": null,
   "id": "9b748b4e",
   "metadata": {},
   "outputs": [],
   "source": []
  }
 ],
 "metadata": {
  "kernelspec": {
   "display_name": "Python 3 (ipykernel)",
   "language": "python",
   "name": "python3"
  },
  "language_info": {
   "codemirror_mode": {
    "name": "ipython",
    "version": 3
   },
   "file_extension": ".py",
   "mimetype": "text/x-python",
   "name": "python",
   "nbconvert_exporter": "python",
   "pygments_lexer": "ipython3",
   "version": "3.9.5"
  }
 },
 "nbformat": 4,
 "nbformat_minor": 5
}
